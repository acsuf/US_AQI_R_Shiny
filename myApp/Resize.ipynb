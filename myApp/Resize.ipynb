{
 "cells": [
  {
   "cell_type": "code",
   "execution_count": 1,
   "id": "eabb918c",
   "metadata": {},
   "outputs": [],
   "source": [
    "## Slimming down .csv\n",
    "\n",
    "import pandas as pd\n",
    "import numpy as np\n",
    "import warnings\n",
    "warnings.filterwarnings('ignore')\n",
    "\n",
    "df = pd.read_csv('US_AQI.csv')"
   ]
  },
  {
   "cell_type": "code",
   "execution_count": 2,
   "id": "baecfd86",
   "metadata": {},
   "outputs": [
    {
     "data": {
      "text/plain": [
       "Ozone    53.935352\n",
       "PM2.5    25.382313\n",
       "PM10      8.249015\n",
       "NO2       6.393897\n",
       "CO        6.039423\n",
       "Name: Defining Parameter, dtype: float64"
      ]
     },
     "execution_count": 2,
     "metadata": {},
     "output_type": "execute_result"
    }
   ],
   "source": [
    "df['Defining Parameter'].value_counts()/len(df)*100"
   ]
  },
  {
   "cell_type": "code",
   "execution_count": 3,
   "id": "1621519b",
   "metadata": {},
   "outputs": [],
   "source": [
    "df['Date'] = pd.to_datetime(df['Date'], format = '%Y-%m-%d')"
   ]
  },
  {
   "cell_type": "code",
   "execution_count": 4,
   "id": "e73fb444",
   "metadata": {},
   "outputs": [
    {
     "data": {
      "text/plain": [
       "0          2022\n",
       "1          2022\n",
       "2          2022\n",
       "3          2022\n",
       "4          2022\n",
       "           ... \n",
       "5617320    1980\n",
       "5617321    1980\n",
       "5617322    1980\n",
       "5617323    1980\n",
       "5617324    1980\n",
       "Name: Date, Length: 5617325, dtype: int64"
      ]
     },
     "execution_count": 4,
     "metadata": {},
     "output_type": "execute_result"
    }
   ],
   "source": [
    "df['Date'].dt.year"
   ]
  },
  {
   "cell_type": "code",
   "execution_count": 5,
   "id": "098bbb25",
   "metadata": {},
   "outputs": [],
   "source": [
    "## Choosing this size for the speed of the app. It can be adjusted easily.\n",
    "\n",
    "df2 = df[df['Date'].dt.year >= 2016]"
   ]
  },
  {
   "cell_type": "code",
   "execution_count": 6,
   "id": "9c638dbf",
   "metadata": {},
   "outputs": [
    {
     "name": "stdout",
     "output_type": "stream",
     "text": [
      "<class 'pandas.core.frame.DataFrame'>\n",
      "Int64Index: 1034119 entries, 0 to 1034118\n",
      "Data columns (total 15 columns):\n",
      " #   Column                     Non-Null Count    Dtype         \n",
      "---  ------                     --------------    -----         \n",
      " 0   Unnamed: 0                 1034119 non-null  int64         \n",
      " 1   CBSA Code                  1034119 non-null  int64         \n",
      " 2   Date                       1034119 non-null  datetime64[ns]\n",
      " 3   AQI                        1034119 non-null  int64         \n",
      " 4   Category                   1034119 non-null  object        \n",
      " 5   Defining Parameter         1034119 non-null  object        \n",
      " 6   Number of Sites Reporting  1034119 non-null  int64         \n",
      " 7   city_ascii                 1034119 non-null  object        \n",
      " 8   state_id                   1034119 non-null  object        \n",
      " 9   state_name                 1034119 non-null  object        \n",
      " 10  lat                        1034119 non-null  float64       \n",
      " 11  lng                        1034119 non-null  float64       \n",
      " 12  population                 1034119 non-null  float64       \n",
      " 13  density                    1034119 non-null  float64       \n",
      " 14  timezone                   1034119 non-null  object        \n",
      "dtypes: datetime64[ns](1), float64(4), int64(4), object(6)\n",
      "memory usage: 126.2+ MB\n"
     ]
    }
   ],
   "source": [
    "df2.info()"
   ]
  },
  {
   "cell_type": "code",
   "execution_count": 7,
   "id": "d92962be",
   "metadata": {},
   "outputs": [],
   "source": [
    "df2 = df2.drop(columns = ['Unnamed: 0', 'timezone', 'CBSA Code', 'Number of Sites Reporting'])\n",
    "df2 = df2.rename(columns = {'city_ascii':'city', 'state_name': 'state'})"
   ]
  },
  {
   "cell_type": "code",
   "execution_count": 8,
   "id": "4c491ab3",
   "metadata": {},
   "outputs": [],
   "source": [
    "df2['city_full'] = df2['city']+', '+df2['state_id']"
   ]
  },
  {
   "cell_type": "code",
   "execution_count": 9,
   "id": "47959ca3-5590-40f0-8aae-2571f17ff357",
   "metadata": {},
   "outputs": [
    {
     "name": "stdout",
     "output_type": "stream",
     "text": [
      "The correlation between AQI for Ozone and PM2.5 is 0.59\n"
     ]
    }
   ],
   "source": [
    "## Correlation, first example.\n",
    "\n",
    "grouped = df2.groupby(['city_full']).filter(lambda x: all(['Ozone' in x['Defining Parameter'].values, 'PM2.5' in x['Defining Parameter'].values]))\n",
    "grouped.groupby(['city_full', 'Defining Parameter']).agg({'AQI': 'mean'})\n",
    "# pivot the table to get Ozone and PM2.5 AQI values in separate columns\n",
    "grouped = grouped.pivot_table(index='city_full', columns='Defining Parameter')\n",
    "\n",
    "# compute correlation between Ozone and PM2.5 AQI values\n",
    "corr = np.corrcoef(grouped['AQI']['Ozone'], grouped['AQI']['PM2.5'])[0][1]\n",
    "\n",
    "print(f\"The correlation between AQI for Ozone and PM2.5 is {corr:.2f}\")"
   ]
  },
  {
   "cell_type": "code",
   "execution_count": 10,
   "id": "36b90081-338d-4385-aeea-76d2f245ea39",
   "metadata": {},
   "outputs": [],
   "source": [
    "from plotnine import *\n",
    "from itertools import combinations"
   ]
  },
  {
   "cell_type": "code",
   "execution_count": 11,
   "id": "3a532ab5-5040-49fb-aaf6-8e5315ab1b3a",
   "metadata": {},
   "outputs": [
    {
     "name": "stdout",
     "output_type": "stream",
     "text": [
      "  Category 1 Category 2 Correlation\n",
      "0      PM2.5      Ozone    0.591928\n",
      "1      PM2.5        NO2    0.414913\n",
      "2      PM2.5       PM10    0.523377\n",
      "3      PM2.5         CO     0.00549\n",
      "4      Ozone        NO2     0.51582\n",
      "5      Ozone       PM10    0.462006\n",
      "6      Ozone         CO   -0.153611\n",
      "7        NO2       PM10     0.52529\n",
      "8        NO2         CO   -0.072628\n",
      "9       PM10         CO   -0.008876\n"
     ]
    }
   ],
   "source": [
    "## All pairwise correlations\n",
    "\n",
    "# get unique categories in Defining Parameter\n",
    "categories = df2['Defining Parameter'].unique()\n",
    "\n",
    "# iterate over all pairs of categories in Defining Parameter\n",
    "corr_df = pd.DataFrame(columns=['Category 1', 'Category 2', 'Correlation'])\n",
    "for pair in combinations(categories, 2):\n",
    "    # filter the dataframe\n",
    "    grouped = df2.groupby(['city_full']).filter(lambda x: all([pair[0] in x['Defining Parameter'].values, pair[1] in x['Defining Parameter'].values]))\n",
    "\n",
    "    # group by city_full and Defining Parameter and compute mean AQI\n",
    "    grouped = grouped.groupby(['city_full', 'Defining Parameter']).agg({'AQI': 'mean'})\n",
    "    grouped = grouped.pivot_table(index='city_full', columns='Defining Parameter')\n",
    "    \n",
    "    # compute correlation between AQI for Ozone and PM2.5\n",
    "    corr = np.corrcoef(grouped['AQI'][pair[0]], grouped['AQI'][pair[1]])[0][1]\n",
    "    corr_df = corr_df.append({'Category 1': pair[0], 'Category 2': pair[1], 'Correlation': corr}, ignore_index=True)\n",
    "\n",
    "print(corr_df)"
   ]
  },
  {
   "cell_type": "code",
   "execution_count": 12,
   "id": "b6c227ae",
   "metadata": {},
   "outputs": [],
   "source": [
    "## Correlation is the same between PM2.5 and Ozone.\n",
    "\n",
    "df2.to_csv('US_AQI(2016-2022).csv', index=False)"
   ]
  }
 ],
 "metadata": {
  "kernelspec": {
   "display_name": "Python 3 (ipykernel)",
   "language": "python",
   "name": "python3"
  },
  "language_info": {
   "codemirror_mode": {
    "name": "ipython",
    "version": 3
   },
   "file_extension": ".py",
   "mimetype": "text/x-python",
   "name": "python",
   "nbconvert_exporter": "python",
   "pygments_lexer": "ipython3",
   "version": "3.9.12"
  }
 },
 "nbformat": 4,
 "nbformat_minor": 5
}
